{
 "cells": [
  {
   "cell_type": "markdown",
   "id": "bea5c8b6-3843-42e8-809a-e5eeaee2c8fa",
   "metadata": {
    "tags": []
   },
   "source": [
    "# Data Science Tools and Ecosystem"
   ]
  },
  {
   "cell_type": "markdown",
   "id": "57d7fb52-ea12-4c76-a9d1-45b2778cbb5e",
   "metadata": {},
   "source": [
    "## Author\n",
    "Joseph Mathews"
   ]
  },
  {
   "cell_type": "markdown",
   "id": "9df86a86-71be-4bc3-9d4c-1996c2dc70c7",
   "metadata": {},
   "source": [
    "In this notebook, Data Science Tools and Ecosystem are summarized."
   ]
  },
  {
   "cell_type": "markdown",
   "id": "ec1a73bb-0177-48a4-af2c-930dcf9990f7",
   "metadata": {},
   "source": [
    "Objectives:\n",
    "\n",
    "* List popular languages for Data Science\n",
    "* List commonly used libraried for Data Science\n",
    "* List Data Science Tools"
   ]
  },
  {
   "cell_type": "markdown",
   "id": "a7c2dbfc-7221-4e5e-9ef4-4bc0acec4ac1",
   "metadata": {},
   "source": [
    "Some of the popular languages that Data Scientists use are:\n",
    "\n",
    "1. Python \n",
    "2. R\n",
    "3. Scala"
   ]
  },
  {
   "cell_type": "markdown",
   "id": "0b8bd7ed-5793-433f-ae2b-bb20227a66c6",
   "metadata": {},
   "source": [
    "Some of the commonly used libraries used by Data Scientists include:\n",
    "\n",
    "1. Matplotlib\n",
    "2. PyTourch\n",
    "3. NumPy"
   ]
  },
  {
   "cell_type": "markdown",
   "id": "0a047785-d0b3-41dd-a6dd-9ad419d323d6",
   "metadata": {},
   "source": [
    "Data Science Tools | \n",
    "--- |\n",
    "RStudio |\n",
    "Apache Hadoop |\n",
    "TensorFlow |\n"
   ]
  },
  {
   "cell_type": "markdown",
   "id": "b561b568-1239-4d4b-afdd-c8fd2aa44a92",
   "metadata": {},
   "source": [
    "### Below are a few examples of evaluating arithmetic expressions in Python"
   ]
  },
  {
   "cell_type": "code",
   "execution_count": 2,
   "id": "0de75580-28e7-4845-b7e6-3134fa311558",
   "metadata": {
    "tags": []
   },
   "outputs": [
    {
     "data": {
      "text/plain": [
       "17"
      ]
     },
     "execution_count": 2,
     "metadata": {},
     "output_type": "execute_result"
    }
   ],
   "source": [
    "# This a simple arithmetic expression to mutiply then add integers\n",
    "(3*4)+5"
   ]
  },
  {
   "cell_type": "code",
   "execution_count": 3,
   "id": "f19ba1cf-39d0-44fa-9670-ac11a21d54f9",
   "metadata": {
    "tags": []
   },
   "outputs": [
    {
     "data": {
      "text/plain": [
       "3.3333333333333335"
      ]
     },
     "execution_count": 3,
     "metadata": {},
     "output_type": "execute_result"
    }
   ],
   "source": [
    "# This will convert 200 minutes to hours by diving by 60\n",
    "200/60"
   ]
  }
 ],
 "metadata": {
  "kernelspec": {
   "display_name": "Python 3 (ipykernel)",
   "language": "python",
   "name": "python3"
  },
  "language_info": {
   "codemirror_mode": {
    "name": "ipython",
    "version": 3
   },
   "file_extension": ".py",
   "mimetype": "text/x-python",
   "name": "python",
   "nbconvert_exporter": "python",
   "pygments_lexer": "ipython3",
   "version": "3.9.5"
  }
 },
 "nbformat": 4,
 "nbformat_minor": 5
}
